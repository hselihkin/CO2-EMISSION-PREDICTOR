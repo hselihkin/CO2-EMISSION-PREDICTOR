{
  "cells": [
    {
      "cell_type": "markdown",
      "metadata": {
        "id": "O2QK5aAeleuj"
      },
      "source": [
        "CO2 EMISSION PREDICTOR"
      ]
    },
    {
      "cell_type": "code",
      "execution_count": 3,
      "metadata": {
        "id": "uc2vcFsM1cv4"
      },
      "outputs": [
        {
          "ename": "ModuleNotFoundError",
          "evalue": "No module named 'pandas'",
          "output_type": "error",
          "traceback": [
            "\u001b[1;31m---------------------------------------------------------------------------\u001b[0m",
            "\u001b[1;31mModuleNotFoundError\u001b[0m                       Traceback (most recent call last)",
            "Cell \u001b[1;32mIn[3], line 3\u001b[0m\n\u001b[0;32m      1\u001b[0m \u001b[39mimport\u001b[39;00m \u001b[39mnumpy\u001b[39;00m \u001b[39mas\u001b[39;00m \u001b[39mnp\u001b[39;00m\n\u001b[0;32m      2\u001b[0m \u001b[39mimport\u001b[39;00m \u001b[39mmatplotlib\u001b[39;00m\u001b[39m.\u001b[39;00m\u001b[39mpyplot\u001b[39;00m \u001b[39mas\u001b[39;00m \u001b[39mplt\u001b[39;00m\n\u001b[1;32m----> 3\u001b[0m \u001b[39mimport\u001b[39;00m \u001b[39mpandas\u001b[39;00m \u001b[39mas\u001b[39;00m \u001b[39mpd\u001b[39;00m\n",
            "\u001b[1;31mModuleNotFoundError\u001b[0m: No module named 'pandas'"
          ]
        }
      ],
      "source": [
        "import numpy as np\n",
        "import matplotlib.pyplot as plt\n",
        "import pandas as pd"
      ]
    },
    {
      "cell_type": "code",
      "execution_count": 153,
      "metadata": {
        "id": "hDmpA8p_7ibG"
      },
      "outputs": [],
      "source": [
        "data = pd.read_csv('Fuel.csv')"
      ]
    },
    {
      "cell_type": "code",
      "execution_count": 154,
      "metadata": {
        "id": "DmoSTn6L7m7o"
      },
      "outputs": [],
      "source": [
        "x = data[['ENGINESIZE', 'CYLINDERS','FUELCONSUMPTION_CITY','FUELCONSUMPTION_HWY','FUELCONSUMPTION_COMB','FUELCONSUMPTION_COMB_MPG']].values\n",
        "y = data['CO2EMISSIONS'].values"
      ]
    },
    {
      "cell_type": "markdown",
      "metadata": {
        "id": "rUuQJNBgUhCF"
      },
      "source": [
        "Feature Scaling"
      ]
    },
    {
      "cell_type": "code",
      "execution_count": 155,
      "metadata": {
        "id": "03sYFYu18cRS"
      },
      "outputs": [],
      "source": [
        "mean = np.mean(x, axis=0)\n",
        "std = np.std(x, axis=0)\n",
        "x = (x - mean) / std"
      ]
    },
    {
      "cell_type": "code",
      "execution_count": 156,
      "metadata": {
        "id": "PHkK45vU9zMm"
      },
      "outputs": [],
      "source": [
        "alpha = 0.01\n",
        "iterations = 1000"
      ]
    },
    {
      "cell_type": "markdown",
      "metadata": {
        "id": "qWpVTu8WUluF"
      },
      "source": [
        "Splitting Data into Training and Testig the Model"
      ]
    },
    {
      "cell_type": "code",
      "execution_count": 157,
      "metadata": {
        "id": "gHW9tDsX937D"
      },
      "outputs": [],
      "source": [
        "split_ratio = 0.8\n",
        "split_index = int(len(x) * split_ratio)\n",
        "\n",
        "x_train= x[:split_index]\n",
        "y_train = y[:split_index]\n",
        "x_test = x[split_index:]\n",
        "y_test = y[split_index:]"
      ]
    },
    {
      "cell_type": "markdown",
      "metadata": {
        "id": "gVf0HHplU14x"
      },
      "source": [
        "Initial weights and bias"
      ]
    },
    {
      "cell_type": "code",
      "execution_count": 158,
      "metadata": {
        "id": "ex7buuSbFQor"
      },
      "outputs": [],
      "source": [
        "m = x_train.shape[0]\n",
        "n = x_train.shape[1]\n",
        "weights = np.zeros(n)\n",
        "bias = 0"
      ]
    },
    {
      "cell_type": "markdown",
      "metadata": {
        "id": "EDlWpZFHUYOB"
      },
      "source": [
        "Gradient Descent"
      ]
    },
    {
      "cell_type": "code",
      "execution_count": 2,
      "metadata": {
        "id": "L_zQ2w_cGapR"
      },
      "outputs": [
        {
          "ename": "NameError",
          "evalue": "name 'iterations' is not defined",
          "output_type": "error",
          "traceback": [
            "\u001b[1;31m---------------------------------------------------------------------------\u001b[0m",
            "\u001b[1;31mNameError\u001b[0m                                 Traceback (most recent call last)",
            "Cell \u001b[1;32mIn[2], line 1\u001b[0m\n\u001b[1;32m----> 1\u001b[0m \u001b[39mfor\u001b[39;00m i \u001b[39min\u001b[39;00m \u001b[39mrange\u001b[39m(iterations):\n\u001b[0;32m      2\u001b[0m     dj_dw\u001b[39m=\u001b[39mnp\u001b[39m.\u001b[39mzeros(n)\n\u001b[0;32m      3\u001b[0m     y_predicted \u001b[39m=\u001b[39m np\u001b[39m.\u001b[39mdot(x_train, weights) \u001b[39m+\u001b[39m bias\n",
            "\u001b[1;31mNameError\u001b[0m: name 'iterations' is not defined"
          ]
        }
      ],
      "source": [
        "for i in range(iterations):\n",
        "    dj_dw=np.zeros(n)\n",
        "    y_predicted = np.dot(x_train, weights) + bias\n",
        "\n",
        "    for j in range(n):\n",
        "        dj_dw[j] += (1/m) * np.sum(np.dot(x_train[:split_index, j], (y_predicted - y_train)))\n",
        "\n",
        "    dj_db=0\n",
        "    dj_db+=np.sum(y_predicted-y_train)/m\n",
        "    weights-=alpha*dj_dw\n",
        "    bias-=alpha*dj_db"
      ]
    },
    {
      "cell_type": "code",
      "execution_count": 160,
      "metadata": {
        "id": "vG2OVQ34NtwA"
      },
      "outputs": [],
      "source": [
        "y_pred = np.dot(x_test, weights) + bias"
      ]
    },
    {
      "cell_type": "markdown",
      "metadata": {
        "id": "aurCr68PUNpD"
      },
      "source": [
        "Model Graph"
      ]
    },
    {
      "cell_type": "code",
      "execution_count": 161,
      "metadata": {
        "colab": {
          "base_uri": "https://localhost:8080/",
          "height": 472
        },
        "id": "_BRZ9AGbN3F5",
        "outputId": "993b5715-6c65-4612-96c8-5fb4ed2035da"
      },
      "outputs": [
        {
          "data": {
            "image/png": "[encoded data removed]",
            "text/plain": [
              "<Figure size 640x480 with 1 Axes>"
            ]
          },
          "metadata": {},
          "output_type": "display_data"
        }
      ],
      "source": [
        "plt.scatter(y_test, y_pred)\n",
        "plt.xlabel(\"Actual CO2 Emission\")\n",
        "plt.ylabel(\"Predicted CO2 Emission\")\n",
        "plt.title(\"Actual vs. Predicted CO2 Emission\")\n",
        "plt.show()"
      ]
    },
    {
      "cell_type": "code",
      "execution_count": 162,
      "metadata": {
        "id": "JkKNhm9BPBU9"
      },
      "outputs": [],
      "source": [
        "def r2_score(y_true, y_pred):\n",
        "    mean_true = np.mean(y_true)\n",
        "    ss_total = np.sum((y_true - mean_true) ** 2)\n",
        "    ss_residual = np.sum((y_true - y_pred) ** 2)\n",
        "    r2 = 1 - (ss_residual / ss_total)\n",
        "    return r2"
      ]
    },
    {
      "cell_type": "markdown",
      "metadata": {
        "id": "nVLRKam6T2js"
      },
      "source": [
        "**Model Performance**"
      ]
    },
    {
      "cell_type": "code",
      "execution_count": 171,
      "metadata": {
        "colab": {
          "base_uri": "https://localhost:8080/"
        },
        "id": "wzN9bjWvPVat",
        "outputId": "05a7704d-045d-433e-cb29-60ae40b3c6dd"
      },
      "outputs": [
        {
          "name": "stdout",
          "output_type": "stream",
          "text": [
            "R-squared: 0.94\n",
            "RMSE: 14.97\n"
          ]
        }
      ],
      "source": [
        "r2 = r2_score(y_test, y_pred)\n",
        "print(f'R-squared: {r2:.2f}')\n",
        "rmse = np.sqrt(np.mean((y_pred - y_test) ** 2))\n",
        "print(f'RMSE: {rmse:.2f}')"
      ]
    },
    {
      "cell_type": "markdown",
      "metadata": {
        "id": "2LZVOtRjP6lx"
      },
      "source": [
        "**Comparision with Sklearn library**\n",
        "\n",
        "\n"
      ]
    },
    {
      "cell_type": "code",
      "execution_count": 164,
      "metadata": {
        "id": "tDnmHb4hPevh"
      },
      "outputs": [],
      "source": [
        "#Comparing my result with scikit-learn\n",
        "from sklearn.model_selection import train_test_split\n",
        "from sklearn.linear_model import LinearRegression\n",
        "from sklearn.metrics import mean_squared_error, r2_score"
      ]
    },
    {
      "cell_type": "code",
      "execution_count": 165,
      "metadata": {
        "id": "5L7FcIDhPgeW"
      },
      "outputs": [],
      "source": [
        "model = LinearRegression()"
      ]
    },
    {
      "cell_type": "code",
      "execution_count": 166,
      "metadata": {
        "colab": {
          "base_uri": "https://localhost:8080/",
          "height": 74
        },
        "id": "RUpFKYhlPj19",
        "outputId": "dfa65e6b-6851-4d5a-b509-5475c81313ad"
      },
      "outputs": [
        {
          "data": {
            "text/html": [
              "<style>#sk-container-id-6 {color: black;background-color: white;}#sk-container-id-6 pre{padding: 0;}#sk-container-id-6 div.sk-toggleable {background-color: white;}#sk-container-id-6 label.sk-toggleable__label {cursor: pointer;display: block;width: 100%;margin-bottom: 0;padding: 0.3em;box-sizing: border-box;text-align: center;}#sk-container-id-6 label.sk-toggleable__label-arrow:before {content: \"▸\";float: left;margin-right: 0.25em;color: #696969;}#sk-container-id-6 label.sk-toggleable__label-arrow:hover:before {color: black;}#sk-container-id-6 div.sk-estimator:hover label.sk-toggleable__label-arrow:before {color: black;}#sk-container-id-6 div.sk-toggleable__content {max-height: 0;max-width: 0;overflow: hidden;text-align: left;background-color: #f0f8ff;}#sk-container-id-6 div.sk-toggleable__content pre {margin: 0.2em;color: black;border-radius: 0.25em;background-color: #f0f8ff;}#sk-container-id-6 input.sk-toggleable__control:checked~div.sk-toggleable__content {max-height: 200px;max-width: 100%;overflow: auto;}#sk-container-id-6 input.sk-toggleable__control:checked~label.sk-toggleable__label-arrow:before {content: \"▾\";}#sk-container-id-6 div.sk-estimator input.sk-toggleable__control:checked~label.sk-toggleable__label {background-color: #d4ebff;}#sk-container-id-6 div.sk-label input.sk-toggleable__control:checked~label.sk-toggleable__label {background-color: #d4ebff;}#sk-container-id-6 input.sk-hidden--visually {border: 0;clip: rect(1px 1px 1px 1px);clip: rect(1px, 1px, 1px, 1px);height: 1px;margin: -1px;overflow: hidden;padding: 0;position: absolute;width: 1px;}#sk-container-id-6 div.sk-estimator {font-family: monospace;background-color: #f0f8ff;border: 1px dotted black;border-radius: 0.25em;box-sizing: border-box;margin-bottom: 0.5em;}#sk-container-id-6 div.sk-estimator:hover {background-color: #d4ebff;}#sk-container-id-6 div.sk-parallel-item::after {content: \"\";width: 100%;border-bottom: 1px solid gray;flex-grow: 1;}#sk-container-id-6 div.sk-label:hover label.sk-toggleable__label {background-color: #d4ebff;}#sk-container-id-6 div.sk-serial::before {content: \"\";position: absolute;border-left: 1px solid gray;box-sizing: border-box;top: 0;bottom: 0;left: 50%;z-index: 0;}#sk-container-id-6 div.sk-serial {display: flex;flex-direction: column;align-items: center;background-color: white;padding-right: 0.2em;padding-left: 0.2em;position: relative;}#sk-container-id-6 div.sk-item {position: relative;z-index: 1;}#sk-container-id-6 div.sk-parallel {display: flex;align-items: stretch;justify-content: center;background-color: white;position: relative;}#sk-container-id-6 div.sk-item::before, #sk-container-id-6 div.sk-parallel-item::before {content: \"\";position: absolute;border-left: 1px solid gray;box-sizing: border-box;top: 0;bottom: 0;left: 50%;z-index: -1;}#sk-container-id-6 div.sk-parallel-item {display: flex;flex-direction: column;z-index: 1;position: relative;background-color: white;}#sk-container-id-6 div.sk-parallel-item:first-child::after {align-self: flex-end;width: 50%;}#sk-container-id-6 div.sk-parallel-item:last-child::after {align-self: flex-start;width: 50%;}#sk-container-id-6 div.sk-parallel-item:only-child::after {width: 0;}#sk-container-id-6 div.sk-dashed-wrapped {border: 1px dashed gray;margin: 0 0.4em 0.5em 0.4em;box-sizing: border-box;padding-bottom: 0.4em;background-color: white;}#sk-container-id-6 div.sk-label label {font-family: monospace;font-weight: bold;display: inline-block;line-height: 1.2em;}#sk-container-id-6 div.sk-label-container {text-align: center;}#sk-container-id-6 div.sk-container {/* jupyter's `normalize.less` sets `[hidden] { display: none; }` but bootstrap.min.css set `[hidden] { display: none !important; }` so we also need the `!important` here to be able to override the default hidden behavior on the sphinx rendered scikit-learn.org. See: https://github.com/scikit-learn/scikit-learn/issues/21755 */display: inline-block !important;position: relative;}#sk-container-id-6 div.sk-text-repr-fallback {display: none;}</style><div id=\"sk-container-id-6\" class=\"sk-top-container\"><div class=\"sk-text-repr-fallback\"><pre>LinearRegression()</pre><b>In a Jupyter environment, please rerun this cell to show the HTML representation or trust the notebook. <br />On GitHub, the HTML representation is unable to render, please try loading this page with nbviewer.org.</b></div><div class=\"sk-container\" hidden><div class=\"sk-item\"><div class=\"sk-estimator sk-toggleable\"><input class=\"sk-toggleable__control sk-hidden--visually\" id=\"sk-estimator-id-6\" type=\"checkbox\" checked><label for=\"sk-estimator-id-6\" class=\"sk-toggleable__label sk-toggleable__label-arrow\">LinearRegression</label><div class=\"sk-toggleable__content\"><pre>LinearRegression()</pre></div></div></div></div></div>"
            ],
            "text/plain": [
              "LinearRegression()"
            ]
          },
          "execution_count": 166,
          "metadata": {},
          "output_type": "execute_result"
        }
      ],
      "source": [
        "model.fit(x_train,y_train)"
      ]
    },
    {
      "cell_type": "code",
      "execution_count": 167,
      "metadata": {
        "id": "HaF-tppDPpRl"
      },
      "outputs": [],
      "source": [
        "y_actual=model.predict(x_test)"
      ]
    },
    {
      "cell_type": "markdown",
      "metadata": {
        "id": "PnB2v-eiT_yJ"
      },
      "source": [
        "Sklearn Performance"
      ]
    },
    {
      "cell_type": "code",
      "execution_count": 170,
      "metadata": {
        "colab": {
          "base_uri": "https://localhost:8080/"
        },
        "id": "fOfpGXAVPxQ-",
        "outputId": "f25a7697-fc93-41fc-e65c-027e090a8376"
      },
      "outputs": [
        {
          "name": "stdout",
          "output_type": "stream",
          "text": [
            "R-squared: 0.94\n",
            "RMSE: 14.91\n"
          ]
        }
      ],
      "source": [
        "r2 = r2_score(y_test, y_actual)\n",
        "print(f'R-squared: {r2:.2f}')\n",
        "rmse2 = np.sqrt(np.mean((y_actual - y_test) ** 2))\n",
        "print(f'RMSE: {rmse2:.2f}')"
      ]
    },
    {
      "cell_type": "markdown",
      "metadata": {
        "id": "wL0oL4jBUEl6"
      },
      "source": [
        "Sklearn Graph"
      ]
    },
    {
      "cell_type": "code",
      "execution_count": 169,
      "metadata": {
        "colab": {
          "base_uri": "https://localhost:8080/",
          "height": 472
        },
        "id": "kOZ5DXhxP15P",
        "outputId": "0ca1706c-22ec-47e8-a9c4-30e96bbfd205"
      },
      "outputs": [
        {
          "data": {
            "image/png": "[encoded data removed]",
            "text/plain": [
              "<Figure size 640x480 with 1 Axes>"
            ]
          },
          "metadata": {},
          "output_type": "display_data"
        }
      ],
      "source": [
        "plt.scatter(y_test, y_pred)\n",
        "plt.xlabel(\"Actual CO2 Emission\")\n",
        "plt.ylabel(\"Predicted CO2 Emission\")\n",
        "plt.title(\"Actual vs. Predicted CO2 Emission\")\n",
        "plt.show()"
      ]
    }
  ],
  "metadata": {
    "colab": {
      "provenance": []
    },
    "kernelspec": {
      "display_name": "Python 3",
      "name": "python3"
    },
    "language_info": {
      "codemirror_mode": {
        "name": "ipython",
        "version": 3
      },
      "file_extension": ".py",
      "mimetype": "text/x-python",
      "name": "python",
      "nbconvert_exporter": "python",
      "pygments_lexer": "ipython3",
      "version": "3.11.4"
    }
  },
  "nbformat": 4,
  "nbformat_minor": 0
}
